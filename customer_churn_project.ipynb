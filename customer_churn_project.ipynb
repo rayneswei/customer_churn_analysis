{
 "cells": [
  {
   "metadata": {},
   "cell_type": "markdown",
   "source": [
    "# Bank Customer Churn Project #\n",
    "> Goal: The reason of Customer Churn\n",
    "## 1. Import Package ##"
   ],
   "id": "1e4acd9a9fbb88a"
  },
  {
   "metadata": {
    "ExecuteTime": {
     "end_time": "2025-03-09T01:21:37.385166Z",
     "start_time": "2025-03-09T01:21:37.380220Z"
    }
   },
   "cell_type": "code",
   "source": [
    "from pyexpat import features\n",
    "\n",
    "import pandas as pd\n",
    "import numpy as np\n",
    "import matplotlib.pyplot as plt\n",
    "import seaborn as sns\n",
    "import statsmodels.api as sm\n",
    "from sklearn.model_selection import train_test_split\n",
    "from sklearn.ensemble import RandomForestClassifier\n",
    "from sklearn.preprocessing import LabelEncoder, OneHotEncoder\n",
    "from sklearn.tree import DecisionTreeClassifier\n",
    "from sklearn.utils import shuffle\n",
    "from tensorflow.python.ops.numpy_ops.np_random import random\n",
    "from tensorflow.python.ops.structured.structured_array_ops import random_shuffle\n"
   ],
   "id": "bf27f5658edeb3bb",
   "outputs": [],
   "execution_count": 133
  },
  {
   "metadata": {},
   "cell_type": "markdown",
   "source": [
    "## 2. Initial Data Exploration ##\n",
    "    2.1 Read Dataset "
   ],
   "id": "a3e3ca12adaa02e7"
  },
  {
   "metadata": {
    "ExecuteTime": {
     "end_time": "2025-03-09T01:20:44.938809Z",
     "start_time": "2025-03-08T20:45:20.259538Z"
    }
   },
   "cell_type": "code",
   "source": "df = pd.read_csv('Bank_Customer_ Churn_Prediction.csv')",
   "id": "e95fdd0668d24c59",
   "outputs": [],
   "execution_count": 4
  },
  {
   "metadata": {
    "ExecuteTime": {
     "end_time": "2025-03-09T01:20:44.945178Z",
     "start_time": "2025-03-08T21:04:55.154032Z"
    }
   },
   "cell_type": "code",
   "source": "df.info()",
   "id": "5bdd159f1a109b57",
   "outputs": [
    {
     "name": "stdout",
     "output_type": "stream",
     "text": [
      "<class 'pandas.core.frame.DataFrame'>\n",
      "RangeIndex: 10000 entries, 0 to 9999\n",
      "Data columns (total 12 columns):\n",
      " #   Column            Non-Null Count  Dtype  \n",
      "---  ------            --------------  -----  \n",
      " 0   customer_id       10000 non-null  int64  \n",
      " 1   credit_score      10000 non-null  int64  \n",
      " 2   country           10000 non-null  object \n",
      " 3   gender            10000 non-null  object \n",
      " 4   age               10000 non-null  int64  \n",
      " 5   tenure            10000 non-null  int64  \n",
      " 6   balance           10000 non-null  float64\n",
      " 7   products_number   10000 non-null  int64  \n",
      " 8   credit_card       10000 non-null  int64  \n",
      " 9   active_member     10000 non-null  int64  \n",
      " 10  estimated_salary  10000 non-null  float64\n",
      " 11  churn             10000 non-null  int64  \n",
      "dtypes: float64(2), int64(8), object(2)\n",
      "memory usage: 937.6+ KB\n"
     ]
    }
   ],
   "execution_count": 18
  },
  {
   "metadata": {},
   "cell_type": "markdown",
   "source": "",
   "id": "8365591a7476bbf1"
  },
  {
   "metadata": {
    "ExecuteTime": {
     "end_time": "2025-03-09T01:20:44.945448Z",
     "start_time": "2025-03-08T21:04:42.696315Z"
    }
   },
   "cell_type": "code",
   "source": "df.head()",
   "id": "38a7b3f97e3760e6",
   "outputs": [
    {
     "data": {
      "text/plain": [
       "   customer_id  credit_score country  gender  age  tenure    balance  \\\n",
       "0     15634602           619  France  Female   42       2       0.00   \n",
       "1     15647311           608   Spain  Female   41       1   83807.86   \n",
       "2     15619304           502  France  Female   42       8  159660.80   \n",
       "3     15701354           699  France  Female   39       1       0.00   \n",
       "4     15737888           850   Spain  Female   43       2  125510.82   \n",
       "\n",
       "   products_number  credit_card  active_member  estimated_salary  churn  \n",
       "0                1            1              1         101348.88      1  \n",
       "1                1            0              1         112542.58      0  \n",
       "2                3            1              0         113931.57      1  \n",
       "3                2            0              0          93826.63      0  \n",
       "4                1            1              1          79084.10      0  "
      ],
      "text/html": [
       "<div>\n",
       "<style scoped>\n",
       "    .dataframe tbody tr th:only-of-type {\n",
       "        vertical-align: middle;\n",
       "    }\n",
       "\n",
       "    .dataframe tbody tr th {\n",
       "        vertical-align: top;\n",
       "    }\n",
       "\n",
       "    .dataframe thead th {\n",
       "        text-align: right;\n",
       "    }\n",
       "</style>\n",
       "<table border=\"1\" class=\"dataframe\">\n",
       "  <thead>\n",
       "    <tr style=\"text-align: right;\">\n",
       "      <th></th>\n",
       "      <th>customer_id</th>\n",
       "      <th>credit_score</th>\n",
       "      <th>country</th>\n",
       "      <th>gender</th>\n",
       "      <th>age</th>\n",
       "      <th>tenure</th>\n",
       "      <th>balance</th>\n",
       "      <th>products_number</th>\n",
       "      <th>credit_card</th>\n",
       "      <th>active_member</th>\n",
       "      <th>estimated_salary</th>\n",
       "      <th>churn</th>\n",
       "    </tr>\n",
       "  </thead>\n",
       "  <tbody>\n",
       "    <tr>\n",
       "      <th>0</th>\n",
       "      <td>15634602</td>\n",
       "      <td>619</td>\n",
       "      <td>France</td>\n",
       "      <td>Female</td>\n",
       "      <td>42</td>\n",
       "      <td>2</td>\n",
       "      <td>0.00</td>\n",
       "      <td>1</td>\n",
       "      <td>1</td>\n",
       "      <td>1</td>\n",
       "      <td>101348.88</td>\n",
       "      <td>1</td>\n",
       "    </tr>\n",
       "    <tr>\n",
       "      <th>1</th>\n",
       "      <td>15647311</td>\n",
       "      <td>608</td>\n",
       "      <td>Spain</td>\n",
       "      <td>Female</td>\n",
       "      <td>41</td>\n",
       "      <td>1</td>\n",
       "      <td>83807.86</td>\n",
       "      <td>1</td>\n",
       "      <td>0</td>\n",
       "      <td>1</td>\n",
       "      <td>112542.58</td>\n",
       "      <td>0</td>\n",
       "    </tr>\n",
       "    <tr>\n",
       "      <th>2</th>\n",
       "      <td>15619304</td>\n",
       "      <td>502</td>\n",
       "      <td>France</td>\n",
       "      <td>Female</td>\n",
       "      <td>42</td>\n",
       "      <td>8</td>\n",
       "      <td>159660.80</td>\n",
       "      <td>3</td>\n",
       "      <td>1</td>\n",
       "      <td>0</td>\n",
       "      <td>113931.57</td>\n",
       "      <td>1</td>\n",
       "    </tr>\n",
       "    <tr>\n",
       "      <th>3</th>\n",
       "      <td>15701354</td>\n",
       "      <td>699</td>\n",
       "      <td>France</td>\n",
       "      <td>Female</td>\n",
       "      <td>39</td>\n",
       "      <td>1</td>\n",
       "      <td>0.00</td>\n",
       "      <td>2</td>\n",
       "      <td>0</td>\n",
       "      <td>0</td>\n",
       "      <td>93826.63</td>\n",
       "      <td>0</td>\n",
       "    </tr>\n",
       "    <tr>\n",
       "      <th>4</th>\n",
       "      <td>15737888</td>\n",
       "      <td>850</td>\n",
       "      <td>Spain</td>\n",
       "      <td>Female</td>\n",
       "      <td>43</td>\n",
       "      <td>2</td>\n",
       "      <td>125510.82</td>\n",
       "      <td>1</td>\n",
       "      <td>1</td>\n",
       "      <td>1</td>\n",
       "      <td>79084.10</td>\n",
       "      <td>0</td>\n",
       "    </tr>\n",
       "  </tbody>\n",
       "</table>\n",
       "</div>"
      ]
     },
     "execution_count": 17,
     "metadata": {},
     "output_type": "execute_result"
    }
   ],
   "execution_count": 17
  },
  {
   "metadata": {},
   "cell_type": "markdown",
   "source": [
    "## 3. The Reason of Customer Churn\n",
    "### 3.1 The Churn rate"
   ],
   "id": "67cc386bed34a19f"
  },
  {
   "metadata": {
    "ExecuteTime": {
     "end_time": "2025-03-09T01:20:44.945747Z",
     "start_time": "2025-03-08T21:11:19.452088Z"
    }
   },
   "cell_type": "code",
   "source": [
    "churn_rate = sum(df['churn'])/len(df)\n",
    "\n",
    "print('churn_rate is '+repr(churn_rate*100)+'%')\n"
   ],
   "id": "f29a5da3ba089092",
   "outputs": [
    {
     "name": "stdout",
     "output_type": "stream",
     "text": [
      "churn_rate is 20.369999999999997%\n"
     ]
    }
   ],
   "execution_count": 27
  },
  {
   "metadata": {
    "ExecuteTime": {
     "end_time": "2025-03-09T01:20:44.945793Z",
     "start_time": "2025-03-08T23:42:06.122715Z"
    }
   },
   "cell_type": "code",
   "source": [
    "sns.countplot(df, x='churn',stat='percent',hue='churn')\n",
    "#Add labels\n",
    "plt.title(\"Customer Churn Percentage\")\n",
    "plt.xlabel(\"Churn Rate ( 0 = Retained, 1 = Churned)\" )"
   ],
   "id": "a118e043465215aa",
   "outputs": [
    {
     "data": {
      "text/plain": [
       "Text(0.5, 0, 'Churn Rate ( 0 = Retained, 1 = Churned)')"
      ]
     },
     "execution_count": 84,
     "metadata": {},
     "output_type": "execute_result"
    },
    {
     "data": {
      "text/plain": [
       "<Figure size 640x480 with 1 Axes>"
      ],
      "image/png": "[encoded data removed]"
     },
     "metadata": {},
     "output_type": "display_data"
    }
   ],
   "execution_count": 84
  },
  {
   "metadata": {},
   "cell_type": "markdown",
   "source": "### 3.2 The Churn number of Different Country",
   "id": "958183e22525e197"
  },
  {
   "metadata": {
    "ExecuteTime": {
     "end_time": "2025-03-09T01:20:44.945855Z",
     "start_time": "2025-03-08T23:37:58.909951Z"
    }
   },
   "cell_type": "code",
   "source": "sns.countplot(df,x='country',hue='churn',stat='count')",
   "id": "8d97ca22ef03fd17",
   "outputs": [
    {
     "data": {
      "text/plain": [
       "<Axes: xlabel='country', ylabel='count'>"
      ]
     },
     "execution_count": 81,
     "metadata": {},
     "output_type": "execute_result"
    },
    {
     "data": {
      "text/plain": [
       "<Figure size 640x480 with 1 Axes>"
      ],
      "image/png": "[encoded data removed]"
     },
     "metadata": {},
     "output_type": "display_data"
    }
   ],
   "execution_count": 81
  },
  {
   "metadata": {},
   "cell_type": "markdown",
   "source": [
    "### 3.3 Find the observations that affect churn\n",
    "#### 3.3.1 Age \n",
    "        The boxplot shows that customer churn is concentrated between 38 and 50"
   ],
   "id": "c03134d1383b8fc7"
  },
  {
   "metadata": {
    "ExecuteTime": {
     "end_time": "2025-03-09T01:20:44.945917Z",
     "start_time": "2025-03-08T23:30:30.533328Z"
    }
   },
   "cell_type": "code",
   "source": [
    "sns.boxplot(y='age',x ='churn',hue='churn',data=df)\n",
    "#label\n",
    "plt.title(\"Age v.s Churn\")\n"
   ],
   "id": "9bb42ebfafb9c72e",
   "outputs": [
    {
     "data": {
      "text/plain": [
       "Text(0.5, 1.0, 'Age v.s Churn')"
      ]
     },
     "execution_count": 75,
     "metadata": {},
     "output_type": "execute_result"
    },
    {
     "data": {
      "text/plain": [
       "<Figure size 640x480 with 1 Axes>"
      ],
      "image/png": "[encoded data removed]"
     },
     "metadata": {},
     "output_type": "display_data"
    }
   ],
   "execution_count": 75
  },
  {
   "metadata": {},
   "cell_type": "markdown",
   "source": "#### 3.3.2 Balance v.s Churn ",
   "id": "983a939ab892e04f"
  },
  {
   "metadata": {
    "ExecuteTime": {
     "end_time": "2025-03-09T01:20:44.945970Z",
     "start_time": "2025-03-08T23:35:43.202355Z"
    }
   },
   "cell_type": "code",
   "source": "sns.boxplot(x='churn', y='balance', data=df, palette='pastel',hue='churn')",
   "id": "97752f8c9a14d3cc",
   "outputs": [
    {
     "data": {
      "text/plain": [
       "<Axes: xlabel='churn', ylabel='balance'>"
      ]
     },
     "execution_count": 80,
     "metadata": {},
     "output_type": "execute_result"
    },
    {
     "data": {
      "text/plain": [
       "<Figure size 640x480 with 1 Axes>"
      ],
      "image/png": "[encoded data removed]"
     },
     "metadata": {},
     "output_type": "display_data"
    }
   ],
   "execution_count": 80
  },
  {
   "metadata": {},
   "cell_type": "markdown",
   "source": "#### 3.3.3 Credit score v.s Churn",
   "id": "23e775421a52051d"
  },
  {
   "metadata": {
    "ExecuteTime": {
     "end_time": "2025-03-09T01:20:44.946015Z",
     "start_time": "2025-03-08T22:24:51.053003Z"
    }
   },
   "cell_type": "code",
   "source": "sns.histplot(x='credit_score', data=df, hue = 'churn',multiple='stack')",
   "id": "b04a37bad0321446",
   "outputs": [
    {
     "data": {
      "text/plain": [
       "<Axes: xlabel='credit_score', ylabel='Count'>"
      ]
     },
     "execution_count": 64,
     "metadata": {},
     "output_type": "execute_result"
    },
    {
     "data": {
      "text/plain": [
       "<Figure size 640x480 with 1 Axes>"
      ],
      "image/png": "[encoded data removed]"
     },
     "metadata": {},
     "output_type": "display_data"
    }
   ],
   "execution_count": 64
  },
  {
   "metadata": {
    "ExecuteTime": {
     "end_time": "2025-03-09T01:20:44.946057Z",
     "start_time": "2025-03-08T22:41:38.013200Z"
    }
   },
   "cell_type": "code",
   "source": [
    "x_creditscore = df['credit_score']\n",
    "y_churn = df['churn']\n",
    "x_creditscore = sm.add_constant(x_creditscore)\n",
    "logit_model_credit =sm.Logit(y_churn, x_creditscore).fit()\n",
    "print(logit_model_credit.summary())"
   ],
   "id": "d2b6515923ccbba9",
   "outputs": [
    {
     "name": "stdout",
     "output_type": "stream",
     "text": [
      "Optimization terminated successfully.\n",
      "         Current function value: 0.505122\n",
      "         Iterations 5\n",
      "                           Logit Regression Results                           \n",
      "==============================================================================\n",
      "Dep. Variable:                  churn   No. Observations:                10000\n",
      "Model:                          Logit   Df Residuals:                     9998\n",
      "Method:                           MLE   Df Model:                            1\n",
      "Date:                Sat, 08 Mar 2025   Pseudo R-squ.:               0.0007257\n",
      "Time:                        17:41:38   Log-Likelihood:                -5051.2\n",
      "converged:                       True   LL-Null:                       -5054.9\n",
      "Covariance Type:            nonrobust   LLR p-value:                  0.006757\n",
      "================================================================================\n",
      "                   coef    std err          z      P>|z|      [0.025      0.975]\n",
      "--------------------------------------------------------------------------------\n",
      "const           -0.9122      0.168     -5.432      0.000      -1.241      -0.583\n",
      "credit_score    -0.0007      0.000     -2.708      0.007      -0.001      -0.000\n",
      "================================================================================\n"
     ]
    }
   ],
   "execution_count": 69
  },
  {
   "metadata": {},
   "cell_type": "markdown",
   "source": "since p-value < 0.05, it shows that there is significant difference between credit_score and churn rate. The negative relationship between credit_score and churn rate implies that the lower credit score, the higher probability of churn",
   "id": "1b0a4d1a7778f6f5"
  },
  {
   "metadata": {},
   "cell_type": "markdown",
   "source": "#### 3.3.4 Tenure v.s Churn",
   "id": "aae8432ba6a7e1dd"
  },
  {
   "metadata": {
    "ExecuteTime": {
     "end_time": "2025-03-09T01:20:44.946093Z",
     "start_time": "2025-03-08T23:54:55.525645Z"
    }
   },
   "cell_type": "code",
   "source": "sns.countplot(df,x='tenure',hue='churn',stat='count')",
   "id": "a9a440e8fe92ed55",
   "outputs": [
    {
     "data": {
      "text/plain": [
       "<Axes: xlabel='tenure', ylabel='count'>"
      ]
     },
     "execution_count": 91,
     "metadata": {},
     "output_type": "execute_result"
    },
    {
     "data": {
      "text/plain": [
       "<Figure size 640x480 with 1 Axes>"
      ],
      "image/png": "[encoded data removed]"
     },
     "metadata": {},
     "output_type": "display_data"
    }
   ],
   "execution_count": 91
  },
  {
   "metadata": {},
   "cell_type": "markdown",
   "source": "#### ",
   "id": "272a1028be1175d7"
  },
  {
   "metadata": {},
   "cell_type": "markdown",
   "source": [
    "#### 3.3.5 Products number v.s churn\n",
    "    "
   ],
   "id": "9f342b719a3901a8"
  },
  {
   "metadata": {
    "ExecuteTime": {
     "end_time": "2025-03-09T01:20:44.946136Z",
     "start_time": "2025-03-08T23:47:11.818404Z"
    }
   },
   "cell_type": "code",
   "source": "sns.countplot(df,x='products_number',hue='churn',stat='count')",
   "id": "7a0e769ec5e9e36a",
   "outputs": [
    {
     "data": {
      "text/plain": [
       "<Axes: xlabel='products_number', ylabel='count'>"
      ]
     },
     "execution_count": 87,
     "metadata": {},
     "output_type": "execute_result"
    },
    {
     "data": {
      "text/plain": [
       "<Figure size 640x480 with 1 Axes>"
      ],
      "image/png": "[encoded data removed]"
     },
     "metadata": {},
     "output_type": "display_data"
    }
   ],
   "execution_count": 87
  },
  {
   "metadata": {},
   "cell_type": "markdown",
   "source": [
    "### 4. Random Forest\n",
    "From plot, it is hard to see which variables actually affect customer churn\n",
    "that is, Random forest is used to choose the most important variable\n",
    "#### 4.1 Processing variable\n"
   ],
   "id": "93b529da61246eb9"
  },
  {
   "metadata": {
    "ExecuteTime": {
     "end_time": "2025-03-09T01:20:44.946176Z",
     "start_time": "2025-03-09T01:15:20.384513Z"
    }
   },
   "cell_type": "code",
   "source": [
    "encoder=OneHotEncoder(sparse_output=False)\n",
    "country_encoded=encoder.fit_transform(df[['country']])\n",
    "country_names=encoder.get_feature_names_out([\"country\"])\n",
    "country_encoded=pd.DataFrame(country_encoded,columns=country_names)\n",
    "\n",
    "gender_encoded=encoder.fit_transform(df[['gender']])\n",
    "gender_names=encoder.get_feature_names_out([\"gender\"])\n",
    "gender_encoded=pd.DataFrame(gender_encoded,columns=gender_names)\n",
    "\n",
    "df_partial=df.drop(columns=['country','gender'])\n",
    "df_encoded=pd.concat([df_partial,country_encoded,gender_encoded],axis=1)\n",
    "df_encoded.head()"
   ],
   "id": "3defe86d1160ceda",
   "outputs": [
    {
     "data": {
      "text/plain": [
       "   customer_id  credit_score  age  tenure    balance  products_number  \\\n",
       "0     15634602           619   42       2       0.00                1   \n",
       "1     15647311           608   41       1   83807.86                1   \n",
       "2     15619304           502   42       8  159660.80                3   \n",
       "3     15701354           699   39       1       0.00                2   \n",
       "4     15737888           850   43       2  125510.82                1   \n",
       "\n",
       "   credit_card  active_member  estimated_salary  churn  country_France  \\\n",
       "0            1              1         101348.88      1             1.0   \n",
       "1            0              1         112542.58      0             0.0   \n",
       "2            1              0         113931.57      1             1.0   \n",
       "3            0              0          93826.63      0             1.0   \n",
       "4            1              1          79084.10      0             0.0   \n",
       "\n",
       "   country_Germany  country_Spain  gender_Female  gender_Male  \n",
       "0              0.0            0.0            1.0          0.0  \n",
       "1              0.0            1.0            1.0          0.0  \n",
       "2              0.0            0.0            1.0          0.0  \n",
       "3              0.0            0.0            1.0          0.0  \n",
       "4              0.0            1.0            1.0          0.0  "
      ],
      "text/html": [
       "<div>\n",
       "<style scoped>\n",
       "    .dataframe tbody tr th:only-of-type {\n",
       "        vertical-align: middle;\n",
       "    }\n",
       "\n",
       "    .dataframe tbody tr th {\n",
       "        vertical-align: top;\n",
       "    }\n",
       "\n",
       "    .dataframe thead th {\n",
       "        text-align: right;\n",
       "    }\n",
       "</style>\n",
       "<table border=\"1\" class=\"dataframe\">\n",
       "  <thead>\n",
       "    <tr style=\"text-align: right;\">\n",
       "      <th></th>\n",
       "      <th>customer_id</th>\n",
       "      <th>credit_score</th>\n",
       "      <th>age</th>\n",
       "      <th>tenure</th>\n",
       "      <th>balance</th>\n",
       "      <th>products_number</th>\n",
       "      <th>credit_card</th>\n",
       "      <th>active_member</th>\n",
       "      <th>estimated_salary</th>\n",
       "      <th>churn</th>\n",
       "      <th>country_France</th>\n",
       "      <th>country_Germany</th>\n",
       "      <th>country_Spain</th>\n",
       "      <th>gender_Female</th>\n",
       "      <th>gender_Male</th>\n",
       "    </tr>\n",
       "  </thead>\n",
       "  <tbody>\n",
       "    <tr>\n",
       "      <th>0</th>\n",
       "      <td>15634602</td>\n",
       "      <td>619</td>\n",
       "      <td>42</td>\n",
       "      <td>2</td>\n",
       "      <td>0.00</td>\n",
       "      <td>1</td>\n",
       "      <td>1</td>\n",
       "      <td>1</td>\n",
       "      <td>101348.88</td>\n",
       "      <td>1</td>\n",
       "      <td>1.0</td>\n",
       "      <td>0.0</td>\n",
       "      <td>0.0</td>\n",
       "      <td>1.0</td>\n",
       "      <td>0.0</td>\n",
       "    </tr>\n",
       "    <tr>\n",
       "      <th>1</th>\n",
       "      <td>15647311</td>\n",
       "      <td>608</td>\n",
       "      <td>41</td>\n",
       "      <td>1</td>\n",
       "      <td>83807.86</td>\n",
       "      <td>1</td>\n",
       "      <td>0</td>\n",
       "      <td>1</td>\n",
       "      <td>112542.58</td>\n",
       "      <td>0</td>\n",
       "      <td>0.0</td>\n",
       "      <td>0.0</td>\n",
       "      <td>1.0</td>\n",
       "      <td>1.0</td>\n",
       "      <td>0.0</td>\n",
       "    </tr>\n",
       "    <tr>\n",
       "      <th>2</th>\n",
       "      <td>15619304</td>\n",
       "      <td>502</td>\n",
       "      <td>42</td>\n",
       "      <td>8</td>\n",
       "      <td>159660.80</td>\n",
       "      <td>3</td>\n",
       "      <td>1</td>\n",
       "      <td>0</td>\n",
       "      <td>113931.57</td>\n",
       "      <td>1</td>\n",
       "      <td>1.0</td>\n",
       "      <td>0.0</td>\n",
       "      <td>0.0</td>\n",
       "      <td>1.0</td>\n",
       "      <td>0.0</td>\n",
       "    </tr>\n",
       "    <tr>\n",
       "      <th>3</th>\n",
       "      <td>15701354</td>\n",
       "      <td>699</td>\n",
       "      <td>39</td>\n",
       "      <td>1</td>\n",
       "      <td>0.00</td>\n",
       "      <td>2</td>\n",
       "      <td>0</td>\n",
       "      <td>0</td>\n",
       "      <td>93826.63</td>\n",
       "      <td>0</td>\n",
       "      <td>1.0</td>\n",
       "      <td>0.0</td>\n",
       "      <td>0.0</td>\n",
       "      <td>1.0</td>\n",
       "      <td>0.0</td>\n",
       "    </tr>\n",
       "    <tr>\n",
       "      <th>4</th>\n",
       "      <td>15737888</td>\n",
       "      <td>850</td>\n",
       "      <td>43</td>\n",
       "      <td>2</td>\n",
       "      <td>125510.82</td>\n",
       "      <td>1</td>\n",
       "      <td>1</td>\n",
       "      <td>1</td>\n",
       "      <td>79084.10</td>\n",
       "      <td>0</td>\n",
       "      <td>0.0</td>\n",
       "      <td>0.0</td>\n",
       "      <td>1.0</td>\n",
       "      <td>1.0</td>\n",
       "      <td>0.0</td>\n",
       "    </tr>\n",
       "  </tbody>\n",
       "</table>\n",
       "</div>"
      ]
     },
     "execution_count": 125,
     "metadata": {},
     "output_type": "execute_result"
    }
   ],
   "execution_count": 125
  },
  {
   "metadata": {},
   "cell_type": "markdown",
   "source": "",
   "id": "42b8b11febb48df6"
  },
  {
   "metadata": {
    "ExecuteTime": {
     "end_time": "2025-03-09T01:24:11.799866Z",
     "start_time": "2025-03-09T01:24:11.752606Z"
    }
   },
   "cell_type": "code",
   "source": [
    "# split training and testing\n",
    "df_encoded=shuffle(df_encoded,random_state=42)\n",
    "x = df_encoded.drop(columns=['customer_id','churn'])\n",
    "y = df_encoded['churn']\n",
    "x_train, x_test, y_train, y_test = train_test_split(x, y, test_size=0.2, random_state=0)\n",
    "clf = DecisionTreeClassifier(random_state=42)\n",
    "clf = clf.fit(x_train, y_train)\n",
    "y_pred = clf.predict(x_test)\n",
    "confidence = clf.score(x_test, y_test)\n",
    "\n"
   ],
   "id": "642ec876d8038314",
   "outputs": [
    {
     "name": "stdout",
     "output_type": "stream",
     "text": [
      "0.785\n"
     ]
    }
   ],
   "execution_count": 139
  },
  {
   "metadata": {
    "ExecuteTime": {
     "end_time": "2025-03-09T01:49:16.311665Z",
     "start_time": "2025-03-09T01:49:15.660170Z"
    }
   },
   "cell_type": "code",
   "source": [
    "rf_clf=RandomForestClassifier(random_state=42)\n",
    "rf_clf = rf_clf.fit(x_train, y_train)\n",
    "\n",
    "feature_importance=rf_clf.feature_importances_\n",
    "feature_importance=feature_importance*100\n",
    "features=df_encoded.columns.drop(['churn','customer_id'])\n",
    "feature_importance=pd.DataFrame(feature_importance)\n",
    "features=pd.DataFrame(features)\n",
    "feature_importance_result=pd.concat([features,feature_importance],axis=1)\n",
    "feature_importance_result.columns=['Feature','Affect_rate']\n",
    "feature_importance_result.sort_values('Affect_rate',ascending=False,inplace=True)\n",
    "print(feature_importance_result)\n",
    "importance_plot=feature_importance_result.plot.bar(stacked=True,x='Feature',y='Affect_rate')\n",
    "\n"
   ],
   "id": "90024762f86dc0e8",
   "outputs": [
    {
     "name": "stdout",
     "output_type": "stream",
     "text": [
      "             Feature  Affect_rate\n",
      "1                age    24.116530\n",
      "0       credit_score    14.613521\n",
      "7   estimated_salary    14.491458\n",
      "3            balance    14.150779\n",
      "4    products_number    12.636015\n",
      "2             tenure     8.317779\n",
      "6      active_member     3.846807\n",
      "9    country_Germany     2.174586\n",
      "5        credit_card     1.895644\n",
      "12       gender_Male     0.996732\n",
      "8     country_France     0.948805\n",
      "10     country_Spain     0.921716\n",
      "11     gender_Female     0.889627\n"
     ]
    },
    {
     "data": {
      "text/plain": [
       "<Figure size 640x480 with 1 Axes>"
      ],
      "image/png": "[encoded data removed]"
     },
     "metadata": {},
     "output_type": "display_data"
    }
   ],
   "execution_count": 164
  },
  {
   "metadata": {},
   "cell_type": "code",
   "outputs": [],
   "execution_count": null,
   "source": "",
   "id": "a0b94ce425760dde"
  }
 ],
 "metadata": {
  "kernelspec": {
   "display_name": "Python 3",
   "language": "python",
   "name": "python3"
  },
  "language_info": {
   "codemirror_mode": {
    "name": "ipython",
    "version": 2
   },
   "file_extension": ".py",
   "mimetype": "text/x-python",
   "name": "python",
   "nbconvert_exporter": "python",
   "pygments_lexer": "ipython2",
   "version": "2.7.6"
  }
 },
 "nbformat": 4,
 "nbformat_minor": 5
}
